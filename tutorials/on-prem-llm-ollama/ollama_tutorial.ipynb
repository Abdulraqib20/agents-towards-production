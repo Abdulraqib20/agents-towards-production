{
 "cells": [
  {
   "cell_type": "markdown",
   "id": "c6080ca6",
   "metadata": {},
   "source": [
    "![](https://europe-west1-atp-views-tracker.cloudfunctions.net/working-analytics?notebook=tutorials--on-prem-llm-ollama--ollama-tutorial)\n",
    "\n",
    "# On‑Prem Large Language Models with **Ollama**\n",
    "\n",
    "Welcome! This tutorial shows how to **run state‑of‑the‑art language models entirely on your own hardware** using [Ollama](https://ollama.com).\n",
    "\n",
    "**Replace External LLM APIs with Ollama!**\n",
    "\n",
    "Learn how to replace cloud-based LLMs (OpenAI, Anthropic, etc.) with local Ollama models in your AI agents. This tutorial covers everything from basic API calls to complete agent migration.\n",
    "\n",
    "Ollama is perfect for getting started with local LLMs, though advanced users may later explore alternatives like vLLM, TensorRT-LLM, or custom inference servers for maximum performance.\n",
    "\n",
    "---\n",
    "\n",
    "## Overview  \n",
    "**Ollama** is a lightweight runtime that lets you download, run, and interact with open‑weight LLMs (like Llama 3) through a local REST API. There is **no external cloud** involvement and your data never leaves the machine.\n",
    "\n",
    "| Section | What you’ll learn |\n",
    "|---------|-------------------|\n",
    "| 1. Installation | Set up the Ollama daemon on macOS / Linux / Windows or Docker |\n",
    "| 2. Model Download | Pull a quantised model file (`.gguf`) and start the server |\n",
    "| 3. Test Your Environment | Send a chat request with `curl` and inspect the streaming response |\n",
    "| 4. Python API | Call the REST endpoint from `requests` and **LangChain’s** `ChatOllama` wrapper |\n",
    "| 5. API Parameters | Customize model behavior with parameters like temperature, top_p, and system prompt |\n",
    "| 6. Troubleshooting | Solve common issues |\n",
    "| 7. Practice Ollama Use Cases | Example guides |\n",
    "\n",
    "---\n",
    "\n",
    "## Motivation  \n",
    "Many organisations need generative‑AI capabilities **without sending sensitive IP to external services**. Running models on‑prem offers:\n",
    "\n",
    "* **Data sovereignty** – full control over data and model weights  \n",
    "* **Predictable costs** – no per‑token fees, just hardware utilisation  \n",
    "* **Low latency** – everything happens on LAN speeds  \n",
    "* **Flexibility** – swap models, tweak quantisation, or fine‑tune offline\n",
    "\n",
    "---\n",
    "\n",
    "## Key Components  \n",
    "\n",
    "1. **Ollama Daemon** – background process that loads the model and exposes a REST/GRPC interface.  \n",
    "2. **Model Files** (`.gguf`) – quantised weights optimised for consumer‑grade GPUs/CPUs.  \n",
    "3. **Client Interfaces** – CLI (`ollama run ...`), REST, Python SDK, LangChain integration.\n",
    "\n",
    "---\n",
    "\n",
    "## Method Details  \n",
    "\n",
    "We will walk through:\n",
    "\n",
    "1. **Installation** – one‑line script or Docker image.  \n",
    "2. **Model Pull & Serve** – grab *Llama 3.1 8‑b* and launch the runtime.  \n",
    "3. **First Chat Request** – send a `curl` call and watch the JSON stream.  \n",
    "4. **Python Requests Client** – wrap the call in pure Python.  \n",
    "5. **LangChain Integration** – drop‑in replacement for cloud models.  \n",
    "\n",
    "---\n",
    "\n",
    "## Benefits \n",
    "\n",
    "* ✅ Keeps confidential data on-premises, making it suitable for enterprise environments and sensitive workloads\n",
    "* ✅ Operates fully offline or in air-gapped systems, which is essential for secure or disconnected use cases\n",
    "* ✅ Simple to install and run, with no need for complex setup or reliance on cloud services\n",
    "* ✅ Easily integrates with existing tools, including CLI, REST API, LangChain, and others\n",
    "* ✅ Eliminates per-token charges and API limits, offering a cost-effective solution for large-scale or continuous use\n",
    "* ✅ Gives you full control over models and configurations, allowing customization for performance, size, and behavior\n",
    "\n",
    "> **Is Ollama relevant for you?**  \n",
    "> Ollama is especially useful when you need to run large language models on-premises for privacy, security, regulatory compliance, or to avoid cloud dependencies. Whether you're building internal tools, developing AI agents for sensitive workflows, or operating in air-gapped environments, Ollama delivers a flexible and reliable local LLM solution.\n",
    "\n",
    "---\n",
    "\n",
    "## Quick Start\n",
    "\n",
    "> **📝 Note:** All examples in this tutorial use `stream: false` for simplicity and easier response handling. You can check out the `stream: true` to receive responses as they're generated in real-time, which is great for interactive applications but requires handling partial responses.\n",
    "\n",
    "### Minimal Hardware Requirements\n",
    "\n",
    "- **RAM**: 8GB minimum (16GB+ recommended for larger models)\n",
    "- **Storage**: 10GB+ free space (models range from 4GB to 70GB+)\n",
    "- **CPU**: Any modern x64 processor (ARM64 also supported on macOS)\n",
    "- **GPU**: Optional but recommended (NVIDIA, AMD, or Apple Silicon for acceleration)\n",
    "\n",
    "---\n",
    "\n",
    "*Run each cell with* <kbd>Shift</kbd> + <kbd>Enter</kbd>, *or use the “Run All” button in the toolbar.*"
   ]
  },
  {
   "cell_type": "markdown",
   "id": "78aec0fc",
   "metadata": {},
   "source": [
    "# 1. Installation\n",
    "Run the following command to download and install the Ollama daemon for macOS / Linux. Windows users can grab the `.exe` from the official site."
   ]
  },
  {
   "cell_type": "raw",
   "id": "5f2a4ad3-9982-4799-9900-a1eb4b666f31",
   "metadata": {
    "language": "bash"
   },
   "source": [
    "# macOS/Linux\n",
    "curl -fsSL https://ollama.com/install.sh | sh\n",
    "\n",
    "# Windows: Download .exe file from https://ollama.com/download and install it. Note, Ollama will lunch directly after installing, no need for further action.\n"
   ]
  },
  {
   "cell_type": "markdown",
   "id": "5d1befc3-9528-4155-97a3-76d99e91bf83",
   "metadata": {},
   "source": [
    "> **💡 Tip**: You can also run Ollama using Docker containers! See the [official Docker image guide](https://ollama.com/blog/ollama-is-now-available-as-an-official-docker-image) for setup instructions."
   ]
  },
  {
   "cell_type": "markdown",
   "id": "6ce92896",
   "metadata": {},
   "source": [
    "# 2. Download a pre‑trained model & start the server\n",
    "`ollama pull` fetches the quantised weights. `ollama serve` launches the local REST service."
   ]
  },
  {
   "cell_type": "raw",
   "id": "04e597e7-7b02-4b2e-8f96-d1543589f7e4",
   "metadata": {
    "language": "bash"
   },
   "source": [
    "ollama pull llama3.1:8b  # For all avilable models visit: https://ollama.com/library\n",
    "ollama serve             # Start the service\n"
   ]
  },
  {
   "cell_type": "markdown",
   "id": "8ebcee41",
   "metadata": {},
   "source": [
    "\n",
    "> **⚠️ Windows Note**: If you get \"only one usage of each socket address is permitted\", Ollama is likely already running. On Windows, Ollama typically starts automatically after installation. Try skipping `ollama serve` and go directly to testing.\n",
    ">"
   ]
  },
  {
   "cell_type": "markdown",
   "id": "0e88eaec",
   "metadata": {},
   "source": [
    "# 3. Test Your Environmen\n",
    "Make your first chat request via REST API\n",
    "\n",
    "This `curl` call sends a simple message to the local server and streams the response back as JSON.\n"
   ]
  },
  {
   "cell_type": "markdown",
   "id": "4ca89785-51fd-4374-bcfc-a1543139464d",
   "metadata": {},
   "source": [
    "\n",
    "**Linux / IOS command:**\n"
   ]
  },
  {
   "cell_type": "raw",
   "id": "f4dbd376-6cc3-4f30-bd62-5b01c777646a",
   "metadata": {
    "language": "bash"
   },
   "source": [
    "curl http://localhost:11434/api/chat -d '{\n",
    "  \"model\": \"llama3.1:8b\",\n",
    "  \"messages\": [{\"role\": \"user\", \"content\": \"Hello!\"}],\n",
    "  \"stream\": false\n",
    "}'\n"
   ]
  },
  {
   "cell_type": "markdown",
   "id": "f0c865b6",
   "metadata": {},
   "source": [
    "\n",
    "**Windows CMD alternative:**\n"
   ]
  },
  {
   "cell_type": "raw",
   "id": "b8730eb7-da25-4963-94ee-eff29493c916",
   "metadata": {
    "language": "bash"
   },
   "source": [
    "curl -X POST http://localhost:11434/api/chat  -H \"Content-Type: application/json\"  -d \"{\\\"model\\\": \\\"llama3.1:8b\\\", \\\"stream\\\": false, \\\"messages\\\": [{\\\"role\\\": \\\"user\\\", \\\"content\\\": \\\"Hello!\\\"}]}\""
   ]
  },
  {
   "cell_type": "markdown",
   "id": "64f660a9",
   "metadata": {},
   "source": [
    "\n",
    "**Postman alternative:**\n",
    "- **Method**: POST\n",
    "- **URL**: `http://localhost:11434/api/chat`\n",
    "- **Headers**: `Content-Type: application/json`\n",
    "- **Body** (raw JSON):\n",
    "{\n",
    "  \"model\": \"llama3.1:8b\",\n",
    "  \"stream\": false,\n",
    "  \"messages\": [\n",
    "    {\n",
    "      \"role\": \"user\", \n",
    "      \"content\": \"Hello!\"\n",
    "    }\n",
    "  ]\n",
    "}\n"
   ]
  },
  {
   "cell_type": "markdown",
   "id": "61b8590c",
   "metadata": {},
   "source": [
    "\n",
    "# 4. Python API\n",
    "\n",
    "### Replace OpenAI API Calls\n",
    "\n",
    "**Before (OpenAI):**\n"
   ]
  },
  {
   "cell_type": "code",
   "execution_count": null,
   "id": "7430dde2",
   "metadata": {
    "language": "python"
   },
   "outputs": [],
   "source": [
    "from openai import OpenAI\n",
    "\n",
    "prompt = \"Hello!\"\n",
    "client = OpenAI(api_key=\"your-key\")\n",
    "response = client.chat.completions.create(\n",
    "    model=\"gpt-4\",\n",
    "    messages=[{\"role\": \"user\", \"content\": prompt}]\n",
    ")\n",
    "print(response.choices[0].message.content)\n"
   ]
  },
  {
   "cell_type": "markdown",
   "id": "d2e2a011",
   "metadata": {},
   "source": [
    "\n",
    "**After (Ollama):**\n"
   ]
  },
  {
   "cell_type": "code",
   "execution_count": null,
   "id": "1c1d9ba3",
   "metadata": {
    "language": "python"
   },
   "outputs": [],
   "source": [
    "import requests\n",
    "\n",
    "prompt = \"Hello!\"\n",
    "response = requests.post(\"http://localhost:11434/api/chat\", json={\n",
    "    \"model\": \"llama3.1:8b\",\n",
    "    \"messages\": [{\"role\": \"user\", \"content\": prompt}],\n",
    "    \"stream\": False\n",
    "})\n",
    "data = response.json()\n",
    "print(data[\"message\"][\"content\"])\n"
   ]
  },
  {
   "cell_type": "markdown",
   "id": "2c4c1f7c",
   "metadata": {},
   "source": [
    "\n",
    "### Replace LangChain Models\n",
    "\n",
    "**Before (OpenAI):**\n"
   ]
  },
  {
   "cell_type": "code",
   "execution_count": null,
   "id": "9ae84b89",
   "metadata": {
    "language": "python"
   },
   "outputs": [],
   "source": [
    "from langchain_openai import ChatOpenAI\n",
    "\n",
    "llm = ChatOpenAI(model=\"gpt-4\")\n",
    "response = llm.invoke(\"Hello!\")\n"
   ]
  },
  {
   "cell_type": "markdown",
   "id": "e59e34c7",
   "metadata": {},
   "source": [
    "\n",
    "**After (Ollama):**\n"
   ]
  },
  {
   "cell_type": "code",
   "execution_count": null,
   "id": "e9741069",
   "metadata": {
    "language": "python"
   },
   "outputs": [],
   "source": [
    "from langchain_community.chat_models import ChatOllama\n",
    "\n",
    "llm = ChatOllama(model=\"llama3.1:8b\")\n",
    "response = llm.invoke(\"Hello!\")\n",
    "print(response.content)\n"
   ]
  },
  {
   "cell_type": "markdown",
   "id": "62b3e4c9",
   "metadata": {},
   "source": [
    "\n",
    "# 5. Ollama API Parameters\n",
    "\n",
    "Ollama provides extensive customization options. Here are the most commonly used parameters:\n",
    "\n",
    "### Essential Parameters\n",
    "\n",
    "| **Parameter**    | **Type** | **Default** | **Description**                                                                              | **When to Use & How**                                                                                                                                                 |\n",
    "| ---------------- | -------- | ----------- | -------------------------------------------------------------------------------------------- | --------------------------------------------------------------------------------------------------------------------------------------------------------------------- |\n",
    "| `model`          | string   | –           | **Required.** Model identifier (e.g., `\"llama3.1:8b\"`).                                      | Always required. Choose the model based on your task (e.g., use `llama3.1:8b` for fast and light response or `llama3.1:70b` for higher quality if resources allow). |\n",
    "| `messages`       | array    | –           | Chat history as a list of `{role: user/assistant/system, content: ...}` messages.            | Required for context. |\n",
    "| `stream`         | boolean  | `true`      | Whether to stream the response token-by-token.                                               | Use `true` for real-time UI or chat apps. Use `false` if you need to process the whole response at once.|\n",
    "| `temperature`    | float    | `0.8`       | Controls randomness. `0.0` = deterministic, `2.0` = very random.                             |Lower (`0.0–0.3`) to reduce variability and make outputs more predictable. Increase (`>1.0`) when diverse or exploratory outputs are acceptable.|\n",
    "| `top_p`          | float    | `0.9`       | Nucleus sampling: only sample from top tokens whose cumulative probability is `top_p`.       | Lower (`0.5–0.8`) for conservative answers; keep `0.9` for balanced output. Use with or instead of `temperature`.                                                     |\n",
    "| `num_predict`    | int      | `128`       | Maximum number of tokens to generate. `-1` means unlimited (until `stop` or internal limit). | Increase for longer answers. Use smaller values (`50–150`) for concise answers, larger (`256+`) for essays. Limit to control latency.                                 |\n",
    "| `repeat_penalty` | float    | `1.1`       | Penalizes repetition. `1.0` = no penalty, >1 discourages repeated phrases.                   | Increase to `1.2–1.5` if the model repeats content. Keep at `1.0–1.1` for natural repetition (like poetry).                                                           |\n",
    "| `system`         | string   | –           | Optional system prompt to set the behavior of the assistant.                                 | Use to define tone, expertise, or task. Example: `\"You are a helpful medical assistant.\"`                                                                             |\n",
    "| `stop`           | array    | –           | List of strings that will stop generation when encountered.                                  | Use to prevent run-on responses. Example: `[\"\\nUser:\", \"</s>\"]` or custom delimiters for tools.                                                                       |\n",
    "\n",
    "\n",
    "### Performance Parameters\n",
    "\n",
    "| Parameter | Type | Default | Description |\n",
    "|-----------|------|---------|-------------|\n",
    "| `num_ctx` | int | 2048 | Context window size (max tokens in memory) |\n",
    "| `num_gpu` | int | -1 | GPU layers (-1=auto, 0=CPU only) |\n",
    "| `keep_alive` | string | - | Keep model loaded (\"5m\", \"10s\", \"-1\"=forever) |\n",
    "\n",
    "### Usage Examples\n",
    "\n",
    "**Basic API call with common parameters:**\n"
   ]
  },
  {
   "cell_type": "code",
   "execution_count": null,
   "id": "dabca6b1",
   "metadata": {
    "language": "python"
   },
   "outputs": [],
   "source": [
    "import requests\n",
    "\n",
    "response = requests.post(\"http://localhost:11434/api/chat\", json={\n",
    "\t\"model\": \"llama3.1:8b\",\n",
    "\t\"messages\": [{\"role\": \"user\", \"content\": \"Explain quantum computing\"}],\n",
    "\t\"stream\": False,\n",
    "\t\"temperature\": 0.3,  # Lower for factual responses\n",
    "\t\"top_p\": 0.9,  # Nucleus sampling\n",
    "\t\"num_predict\": 500,  # Limit response length\n",
    "\t\"repeat_penalty\": 1.2,  # Reduce repetition\n",
    "\t\"stop\": [\"```\", \"---\"]  # Stop at code blocks or separators\n",
    "})\n",
    "data = response.json()\n",
    "\n",
    "print(data[\"message\"][\"content\"])\n"
   ]
  },
  {
   "cell_type": "markdown",
   "id": "04fc3620",
   "metadata": {},
   "source": [
    "\n",
    "**Using with LangChain:**\n"
   ]
  },
  {
   "cell_type": "code",
   "execution_count": null,
   "id": "4dd52f66",
   "metadata": {
    "language": "python"
   },
   "outputs": [],
   "source": [
    "from langchain_community.chat_models import ChatOllama\n",
    "\n",
    "llm = ChatOllama(\n",
    "\tmodel=\"llama3.1:8b\",\n",
    "\ttemperature=0.7,\n",
    "\ttop_p=0.9,\n",
    "\tnum_predict=256,\n",
    "\trepeat_penalty=1.1\n",
    ")\n",
    "response = llm.invoke(\"Hello!\")\n",
    "print(response.content)\n"
   ]
  },
  {
   "cell_type": "markdown",
   "id": "605c53b9",
   "metadata": {},
   "source": [
    "\n",
    "> **💡 Tips:** Use `stream: false` for simpler processing • Set `num_predict` to limit response length • Use `keep_alive` to avoid reloading models • Adjust `temperature` for creativity vs consistency\n",
    "\n",
    "> **⚠️ Note:** Not all parameters work with every model. Large `num_ctx` values require more RAM/VRAM.\n"
   ]
  },
  {
   "cell_type": "markdown",
   "id": "c2f27eda-48f5-4be5-b3b8-69073a5e52ed",
   "metadata": {},
   "source": [
    "# 6. Troubleshooting"
   ]
  },
  {
   "cell_type": "markdown",
   "id": "6b8d681c",
   "metadata": {},
   "source": [
    "**Model not found?**"
   ]
  },
  {
   "cell_type": "raw",
   "id": "ef683750-5fbb-4544-9f37-83d3037627bd",
   "metadata": {},
   "source": [
    "ollama pull <model-name>"
   ]
  },
  {
   "cell_type": "markdown",
   "id": "5a147a96",
   "metadata": {},
   "source": [
    "\n",
    "**Connection refused?**\n"
   ]
  },
  {
   "cell_type": "raw",
   "id": "cedcd802-bbc4-4161-bb2b-e20a7f21559b",
   "metadata": {
    "language": "bash"
   },
   "source": [
    "ollama serve"
   ]
  },
  {
   "cell_type": "markdown",
   "id": "bb51af1e-6d28-41c5-b42b-0f3691f220ed",
   "metadata": {},
   "source": [
    "**Out of memory?**\n",
    "Try a smaller model like `mistral:7b`"
   ]
  },
  {
   "cell_type": "markdown",
   "id": "b2323180-d70f-49d8-a874-6b1c647a90f5",
   "metadata": {},
   "source": [
    "### Model Recommendations\n",
    "\n",
    "| Model | Size | Best For | Speed |\n",
    "|-------|------|----------|-------|\n",
    "| `llama3.1:8b` | 8GB RAM | General use, agents | Fast |\n",
    "| `qwen2.5:14b` | 14GB RAM | Code, reasoning | Medium |\n",
    "| `phi3:14b` | 14GB RAM | Efficient tasks | Fast |\n",
    "| `mistral:7b` | 7GB RAM | Simple tasks | Very Fast |"
   ]
  },
  {
   "cell_type": "markdown",
   "id": "ad73133a-e3f8-4da4-87b9-b62679a818d2",
   "metadata": {},
   "source": [
    "# 7. Practice Ollama Use Cases\n",
    "\n",
    "- Start with `basic_usage.ipynb` for simple replacements\n",
    "- Try `langchain_agent.ipynb` for agent patterns  \n",
    "- Experiment with different models for your use case\n",
    "\n",
    "Ready to make your agents fully on-premises? Start with the examples!"
   ]
  }
 ],
 "metadata": {
  "kernelspec": {
   "display_name": "Python 3 (ipykernel)",
   "language": "python",
   "name": "python3"
  },
  "language_info": {
   "codemirror_mode": {
    "name": "ipython",
    "version": 3
   },
   "file_extension": ".py",
   "mimetype": "text/x-python",
   "name": "python",
   "nbconvert_exporter": "python",
   "pygments_lexer": "ipython3",
   "version": "3.13.2"
  }
 },
 "nbformat": 4,
 "nbformat_minor": 5
}
